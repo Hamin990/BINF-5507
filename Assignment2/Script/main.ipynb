# Assignment 2
# Heart Disease UCI Dataset

import pandas as pd
import numpy as np
import matplotlib.pyplot as plt
import seaborn as sns
from sklearn.model_selection import train_test_split
from sklearn.linear_model import ElasticNet, LogisticRegression
from sklearn.neighbors import KNeighborsClassifier
from sklearn.metrics import r2_score, mean_squared_error, accuracy_score, f1_score, roc_curve, auc, precision_recall_curve

# Load Dataset
df = pd.read_csv('../Data/heart_disease_uci.csv')

# Preprocessing (Basic Example — You may need to adjust based on the actual dataset)
df = df.dropna()

# Splitting data
X = df.drop(columns=['chol', 'num'])
y_reg = df['chol']
y_clf = df['num']

X_train, X_test, y_reg_train, y_reg_test = train_test_split(X, y_reg, test_size=0.3, random_state=42)
X_train_clf, X_test_clf, y_clf_train, y_clf_test = train_test_split(X, y_clf, test_size=0.3, random_state=42)

# 1. Regression - ElasticNet with Hyperparameter Tuning
alphas = [0.01, 0.1, 1, 10]
l1_ratios = [0.1, 0.5, 0.9]

r2_results = []
rmse_results = []

for alpha in alphas:
    for l1_ratio in l1_ratios:
        model = ElasticNet(alpha=alpha, l1_ratio=l1_ratio, random_state=42)
        model.fit(X_train, y_reg_train)
        y_pred = model.predict(X_test)
        r2 = r2_score(y_reg_test, y_pred)
        rmse = np.sqrt(mean_squared_error(y_reg_test, y_pred))
        r2_results.append([alpha, l1_ratio, r2])
        rmse_results.append([alpha, l1_ratio, rmse])

# Heatmap - R²
r2_df = pd.DataFrame(r2_results, columns=['alpha', 'l1_ratio', 'r2'])
pivot_r2 = r2_df.pivot('alpha', 'l1_ratio', 'r2')

plt.figure(figsize=(8,6))
sns.heatmap(pivot_r2, annot=True, cmap='coolwarm', cbar_kws={'label': 'R²'})
plt.title('R² Heatmap for ElasticNet')
plt.show()

# 2. Classification - Logistic Regression & k-NN
logistic_model = LogisticRegression(solver='liblinear', penalty='l1')
logistic_model.fit(X_train_clf, y_clf_train)
y_clf_pred_logistic = logistic_model.predict(X_test_clf)

knn_model = KNeighborsClassifier(n_neighbors=5)
knn_model.fit(X_train_clf, y_clf_train)
y_clf_pred_knn = knn_model.predict(X_test_clf)

# Evaluation - Classification
print("Logistic Regression F1:", f1_score(y_clf_test, y_clf_pred_logistic))
print("k-NN F1:", f1_score(y_clf_test, y_clf_pred_knn))

# AUROC Curve - Logistic Regression
y_prob_logistic = logistic_model.predict_proba(X_test_clf)[:, 1]
fpr, tpr, _ = roc_curve(y_clf_test, y_prob_logistic)
roc_auc = auc(fpr, tpr)

plt.figure()
plt.plot(fpr, tpr, color='darkorange', lw=2, label=f'Logistic AUROC (area = {roc_auc:.2f})')
plt.plot([0, 1], [0, 1], color='navy', lw=2, linestyle='--')
plt.xlabel('False Positive Rate')
plt.ylabel('True Positive Rate')
plt.title('Logistic Regression AUROC')
plt.legend(loc="lower right")
plt.show()

