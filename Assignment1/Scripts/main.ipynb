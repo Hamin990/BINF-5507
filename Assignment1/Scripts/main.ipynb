from Scripts.data_preprocessor import DataPreprocessor

# Initialize the DataPreprocessor with the messy dataset
preprocessor = DataPreprocessor("Data/messy_data.csv")

# Step 1: Handle missing values
preprocessor.handle_missing_values(strategy="mean")

# Step 2: Remove duplicate rows
preprocessor.remove_duplicates()

# Step 3: Normalize numerical columns
preprocessor.normalize_numeric_columns()

# Step 4: Encode categorical variables
preprocessor.encode_categorical_columns()

# Step 5: Remove outliers
preprocessor.remove_outliers()

# Step 6: Save the cleaned dataset
preprocessor.save_cleaned_data("Data/cleaned_data.csv")

# Step 7: Display the first few rows of cleaned data
preprocessor.data.head()
