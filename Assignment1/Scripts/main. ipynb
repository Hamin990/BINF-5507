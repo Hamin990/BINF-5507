from Scripts.data_preprocessor import DataPreprocessor


preprocessor = DataPreprocessor("Data/messy_data.csv")

preprocessor.handle_missing_values(strategy="mean")


preprocessor.remove_duplicates()


preprocessor.normalize_numeric_columns()


preprocessor.encode_categorical_columns()


preprocessor.remove_outliers()


preprocessor.save_cleaned_data("Data/cleaned_data.csv")


preprocessor.data.head()
